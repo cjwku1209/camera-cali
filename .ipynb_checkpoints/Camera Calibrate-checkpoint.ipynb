{
 "cells": [
  {
   "cell_type": "code",
   "execution_count": 28,
   "metadata": {},
   "outputs": [],
   "source": [
    "import cv2\n",
    "import numpy as np\n",
    "img_top = cv2.imread('data/front.JPG')\n",
    "img_bottom = cv2.imread('data/back.JPG')"
   ]
  },
  {
   "cell_type": "code",
   "execution_count": 29,
   "metadata": {},
   "outputs": [],
   "source": [
    "img_top_grey = cv2.cvtColor(img_top, cv2.COLOR_BGR2GRAY)\n",
    "img_bottom_grey = cv2.cvtColor(img_bottom, cv2.COLOR_BGR2GRAY)"
   ]
  },
  {
   "cell_type": "code",
   "execution_count": 30,
   "metadata": {},
   "outputs": [
    {
     "name": "stdout",
     "output_type": "stream",
     "text": [
      "True\n"
     ]
    }
   ],
   "source": [
    "# termination criteria\n",
    "criteria = (cv2.TERM_CRITERIA_EPS + cv2.TERM_CRITERIA_MAX_ITER, 30, 0.001)\n",
    "\n",
    "# prepare object points, like (0,0,0), (1,0,0), (2,0,0) ....,(6,5,0)\n",
    "objp1 = np.zeros((9*7,3), np.float32)\n",
    "objp1[:,:2] = np.mgrid[0:7,0:9].T.reshape(-1,2) \n",
    "\n",
    "# Arrays to store object points and image points from all the images.\n",
    "objpoints1 = [] # 3d point in real world space\n",
    "imgpoints1 = [] # 2d points in image plane.\n",
    "\n",
    "ret1, corners1 = cv2.findChessboardCorners(img_top_grey, (7,9),None)\n",
    "# If found, add object points, image points (after refining them)\n",
    "print(ret1)\n",
    "if ret1 == True:\n",
    "    objpoints1.append(objp1)\n",
    "    cv2.cornerSubPix(img_top_grey, corners1,(11,11),(-1,-1),criteria)\n",
    "    imgpoints1.append(corners1)\n",
    "\n",
    "    # Draw and display the corners\n",
    "#     cv2.drawChessboardCorners(img_top, (7,6), corners, ret)\n",
    "#     cv2.imshow('img',img_top)\n",
    "#     cv2.waitKey(500)\n",
    "\n",
    "# cv2.destroyAllWindows()"
   ]
  },
  {
   "cell_type": "code",
   "execution_count": 31,
   "metadata": {},
   "outputs": [],
   "source": [
    "ret1, mtx1, dist1, rvecs1, tvecs1 = cv2.calibrateCamera(objpoints, imgpoints, img_top_grey.shape[::-1],None,None)"
   ]
  },
  {
   "cell_type": "code",
   "execution_count": 19,
   "metadata": {},
   "outputs": [],
   "source": [
    "# prepare object points, like (0,0,0), (1,0,0), (2,0,0) ....,(6,5,0)\n",
    "objp2 = np.zeros((9*7,3), np.float32)\n",
    "objp2[:,:2] = np.mgrid[0:7,0:9].T.reshape(-1,2) \n",
    "\n",
    "# Arrays to store object points and image points from all the images.\n",
    "objpoints2 = [] # 3d point in real world space\n",
    "imgpoints2 = [] # 2d points in image plane.\n",
    "\n",
    "ret2, corners2 = cv2.findChessboardCorners(img_bottom_grey, (7,9),None)\n",
    "# If found, add object points, image points (after refining them)\n",
    "print(ret2)\n",
    "if ret2 == True:\n",
    "    objpoints2.append(objp2)\n",
    "    cv2.cornerSubPix(img_top_grey, corners2,(11,11),(-1,-1),criteria)\n",
    "    imgpoints2.append(corners2)"
   ]
  },
  {
   "cell_type": "code",
   "execution_count": null,
   "metadata": {},
   "outputs": [],
   "source": []
  }
 ],
 "metadata": {
  "kernelspec": {
   "display_name": "Python 3",
   "language": "python",
   "name": "python3"
  },
  "language_info": {
   "codemirror_mode": {
    "name": "ipython",
    "version": 3
   },
   "file_extension": ".py",
   "mimetype": "text/x-python",
   "name": "python",
   "nbconvert_exporter": "python",
   "pygments_lexer": "ipython3",
   "version": "3.6.5"
  }
 },
 "nbformat": 4,
 "nbformat_minor": 2
}
